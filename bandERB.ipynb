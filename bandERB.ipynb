{
 "cells": [
  {
   "cell_type": "code",
   "execution_count": 1,
   "metadata": {},
   "outputs": [
    {
     "name": "stdout",
     "output_type": "stream",
     "text": [
      "importing Jupyter notebook from params.ipynb\n"
     ]
    }
   ],
   "source": [
    "import numpy as np\n",
    "import tensorflow as tf\n",
    "import import_ipynb\n",
    "from params import model_params\n",
    "p = model_params('config.ini')\n",
    "\n",
    "def freq2erb (freq_hz):\n",
    "    return 9.265 * np.log(1 + freq_hz / (24.7 * 9.265))\n",
    "\n",
    "def erb2freq (n_erb):\n",
    "    return 24.7 * 9.265 * (np.exp(n_erb / 9.265) -1)\n",
    "\n",
    "def ERBBand(N, high_lim, NFFT):\n",
    "    freqRangePerBin = high_lim / (NFFT/2)\n",
    "    erb_low = freq2erb(0)\n",
    "    erb_high = freq2erb(high_lim)\n",
    "    erb_lims = np.linspace(erb_low, erb_high, N)\n",
    "\n",
    "    cutoffs = [erb2freq(erb_lims[i]) for i in range (N)]\n",
    "\n",
    "    nfftborder = [np.round((cutoffs[i]+(freqRangePerBin/2))/freqRangePerBin) for i in range (N)]\n",
    "\n",
    "    for i in range (N-2):\n",
    "        if (nfftborder[i+2] - nfftborder[i]) < 2:\n",
    "            nfftborder[i+2] += (2-(nfftborder[i+2] - nfftborder[i]))\n",
    "\n",
    "    return nfftborder\n",
    "\n",
    "\n",
    "def ERB_pro_matrix(nfftborder, NFFT, mode):\n",
    "    N                 = len(nfftborder)\n",
    "    ERB_Matrix        = np.zeros((int(NFFT / 2 +1) , N))\n",
    "    \n",
    "    for i in range(N - 1):\n",
    "        band_size        = nfftborder[i+1]-nfftborder[i]\n",
    "        \n",
    "        for j in range(int(band_size)):\n",
    "            ERB_Matrix[int(nfftborder[i])+j, i]  = 1 - j / band_size\n",
    "            ERB_Matrix[int(nfftborder[i])+j,i+1] = j / band_size\n",
    "    if mode==0:\n",
    "        ERB_Matrix[:, 0]   *=2\n",
    "        ERB_Matrix[:, N-1] *=2\n",
    "\n",
    "    return ERB_Matrix"
   ]
  },
  {
   "cell_type": "code",
   "execution_count": 2,
   "metadata": {},
   "outputs": [
    {
     "data": {
      "text/plain": [
       "[0.0,\n",
       " 1.0,\n",
       " 2.0,\n",
       " 3.0,\n",
       " 4.0,\n",
       " 6.0,\n",
       " 7.0,\n",
       " 9.0,\n",
       " 11.0,\n",
       " 14.0,\n",
       " 17.0,\n",
       " 20.0,\n",
       " 24.0,\n",
       " 28.0,\n",
       " 34.0,\n",
       " 40.0,\n",
       " 47.0,\n",
       " 55.0,\n",
       " 65.0,\n",
       " 76.0,\n",
       " 89.0,\n",
       " 104.0,\n",
       " 121.0,\n",
       " 141.0,\n",
       " 165.0,\n",
       " 192.0,\n",
       " 224.0,\n",
       " 261.0,\n",
       " 305.0,\n",
       " 355.0,\n",
       " 413.0,\n",
       " 481.0]"
      ]
     },
     "execution_count": 2,
     "metadata": {},
     "output_type": "execute_result"
    }
   ],
   "source": [
    "X = np.ones(481)\n",
    "ERBB = ERBBand(N=32, high_lim=24000, NFFT=960)\n",
    "ERBB"
   ]
  },
  {
   "cell_type": "code",
   "execution_count": 9,
   "metadata": {},
   "outputs": [
    {
     "data": {
      "text/plain": [
       "array([1.41421356, 1.        , 1.        , 1.        , 1.        ,\n",
       "       1.22474487, 1.41421356, 1.41421356, 1.41421356, 1.58113883,\n",
       "       1.73205081, 1.87082869, 2.12132034, 2.23606798, 2.34520788,\n",
       "       2.54950976, 2.73861279, 3.        , 3.24037035, 3.46410162,\n",
       "       3.74165739, 4.0620192 , 4.35889894, 4.69041576, 5.04975247,\n",
       "       5.43139025, 5.87367006, 6.32455532, 6.81909085, 7.34846923,\n",
       "       7.93725393, 8.18535277])"
      ]
     },
     "execution_count": 9,
     "metadata": {},
     "output_type": "execute_result"
    }
   ],
   "source": [
    "ERB_Matrix = ERB_pro_matrix(ERBB, NFFT=960, mode=0) #  ERB convert matrix\n",
    "Shane_B = np.sqrt(X @ ERB_Matrix)\n",
    "Shane_B"
   ]
  },
  {
   "cell_type": "code",
   "execution_count": 10,
   "metadata": {},
   "outputs": [
    {
     "data": {
      "text/plain": [
       "array([0., 1., 1., 1., 1., 1., 1., 1., 1., 1., 1., 1., 1., 1., 1., 1., 1.,\n",
       "       1., 1., 1., 1., 1., 1., 1., 1., 1., 1., 1., 1., 1., 1., 1., 1., 1.,\n",
       "       1., 1., 1., 1., 1., 1., 1., 1., 1., 1., 1., 1., 1., 1., 1., 1., 1.,\n",
       "       1., 1., 1., 1., 1., 1., 1., 1., 1., 1., 1., 1., 1., 1., 1., 1., 1.,\n",
       "       1., 1., 1., 1., 1., 1., 1., 1., 1., 1., 1., 1., 1., 1., 1., 1., 1.,\n",
       "       1., 1., 1., 1., 1., 1., 1., 1., 1., 1., 1., 1., 1., 1., 1., 1., 1.,\n",
       "       1., 1., 1., 1., 1., 1., 1., 1., 1., 1., 1., 1., 1., 1., 1., 1., 1.,\n",
       "       1., 1., 1., 1., 1., 1., 1., 1., 1., 1., 1., 1., 1., 1., 1., 1., 1.,\n",
       "       1., 1., 1., 1., 1., 1., 1., 1., 1., 1., 1., 1., 1., 1., 1., 1., 1.,\n",
       "       1., 1., 1., 1., 1., 1., 1., 1., 1., 1., 1., 1., 1., 1., 1., 1., 1.,\n",
       "       1., 1., 1., 1., 1., 1., 1., 1., 1., 1., 1., 1., 1., 1., 1., 1., 1.,\n",
       "       1., 1., 1., 1., 1., 1., 1., 1., 1., 1., 1., 1., 1., 1., 1., 1., 1.,\n",
       "       1., 1., 1., 1., 1., 1., 1., 1., 1., 1., 1., 1., 1., 1., 1., 1., 1.,\n",
       "       1., 1., 1., 1., 1., 1., 1., 1., 1., 1., 1., 1., 1., 1., 1., 1., 1.,\n",
       "       1., 1., 1., 1., 1., 1., 1., 1., 1., 1., 1., 1., 1., 1., 1., 1., 1.,\n",
       "       1., 1., 1., 1., 1., 1., 1., 1., 1., 1., 1., 1., 1., 1., 1., 1., 1.,\n",
       "       1., 1., 1., 1., 1., 1., 1., 1., 1., 1., 1., 1., 1., 1., 1., 1., 1.,\n",
       "       1., 1., 1., 1., 1., 1., 1., 1., 1., 1., 1., 1., 1., 1., 1., 1., 1.,\n",
       "       1., 1., 1., 1., 1., 1., 1., 1., 1., 1., 1., 1., 1., 1., 1., 1., 1.,\n",
       "       1., 1., 1., 1., 1., 1., 1., 1., 1., 1., 1., 1., 1., 1., 1., 1., 1.,\n",
       "       1., 1., 1., 1., 1., 1., 1., 1., 1., 1., 1., 1., 1., 1., 1., 1., 1.,\n",
       "       1., 1., 1., 1., 1., 1., 1., 1., 1., 1., 1., 1., 1., 1., 1., 1., 1.,\n",
       "       1., 1., 1., 1., 1., 1., 1., 1., 1., 1., 1., 1., 1., 1., 1., 1., 1.,\n",
       "       1., 1., 1., 1., 1., 1., 1., 1., 1., 1., 1., 1., 1., 1., 1., 1., 1.,\n",
       "       1., 1., 1., 1., 1., 1., 1., 1., 1., 1., 1., 1., 1., 1., 1., 1., 1.,\n",
       "       1., 1., 1., 1., 1., 1., 1., 1., 1., 1., 1., 1., 1., 1., 1., 1., 1.,\n",
       "       1., 1., 1., 1., 1., 1., 1., 1., 1., 1., 1., 1., 1., 1., 1., 1., 1.,\n",
       "       1., 1., 1., 1., 1., 1., 1., 1., 1., 1., 1., 1., 1., 1., 1., 1., 1.,\n",
       "       1., 1., 1., 1., 1.])"
      ]
     },
     "execution_count": 10,
     "metadata": {},
     "output_type": "execute_result"
    }
   ],
   "source": [
    "X = np.ones(32)\n",
    "iERB_Matrix = ERB_pro_matrix(ERBB, NFFT=960, mode=1) # inverse ERB convert matrix\n",
    "X @ iERB_Matrix.T"
   ]
  },
  {
   "cell_type": "code",
   "execution_count": 5,
   "metadata": {},
   "outputs": [],
   "source": [
    "# iERB_Matrix = ERB_pro_matrix(ERBB, NFFT=960, mode=1) # inverse ERB convert matrix\n",
    "# iShane_B = Shane_B @ iERB_Matrix.T\n",
    "# np.round(iShane_B,3)"
   ]
  },
  {
   "cell_type": "code",
   "execution_count": null,
   "metadata": {},
   "outputs": [],
   "source": []
  }
 ],
 "metadata": {
  "kernelspec": {
   "display_name": "Python 3",
   "language": "python",
   "name": "python3"
  },
  "language_info": {
   "codemirror_mode": {
    "name": "ipython",
    "version": 3
   },
   "file_extension": ".py",
   "mimetype": "text/x-python",
   "name": "python",
   "nbconvert_exporter": "python",
   "pygments_lexer": "ipython3",
   "version": "3.8.8"
  }
 },
 "nbformat": 4,
 "nbformat_minor": 4
}
