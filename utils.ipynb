{
 "cells": [
  {
   "cell_type": "code",
   "execution_count": 1,
   "id": "e254aa93",
   "metadata": {},
   "outputs": [
    {
     "name": "stdout",
     "output_type": "stream",
     "text": [
      "importing Jupyter notebook from bandERB.ipynb\n",
      "importing Jupyter notebook from params.ipynb\n",
      "importing Jupyter notebook from loss.ipynb\n"
     ]
    }
   ],
   "source": [
    "import import_ipynb\n",
    "try:\n",
    "    from bandERB import ERBBand, ERB_pro_matrix\n",
    "    from loss import as_complex, as_real\n",
    "except:\n",
    "    from bandERB import ERBBand, ERB_pro_matrix\n",
    "    from loss import as_complex, as_real"
   ]
  },
  {
   "cell_type": "code",
   "execution_count": 1,
   "id": "7e4a8e14",
   "metadata": {},
   "outputs": [
    {
     "data": {
      "text/plain": [
       "True"
      ]
     },
     "execution_count": 1,
     "metadata": {},
     "output_type": "execute_result"
    }
   ],
   "source": [
    "import tensorflow as tf\n",
    "import tensorflow.keras as keras\n",
    "\n",
    "import numpy as np\n",
    "import random\n",
    "import math\n",
    "# import os\n",
    "# os.environ[\"CUDA_DEVICE_ORDER\"] = \"PCI_BUS_ID\"   # see issue #152\n",
    "# os.environ[\"CUDA_VISIBLE_DEVICES\"] = \"\"\n",
    "# tf.executing_eagerly()"
   ]
  },
  {
   "cell_type": "code",
   "execution_count": 3,
   "id": "4d213944",
   "metadata": {},
   "outputs": [],
   "source": [
    "from params import model_params\n",
    "p = model_params('config.ini')"
   ]
  },
  {
   "cell_type": "code",
   "execution_count": 4,
   "id": "62cd1702",
   "metadata": {},
   "outputs": [],
   "source": [
    "def mask_operations(spec_inputs, mask, beta=0.02, training=True, return_mask=False):\n",
    "    # spec (real) [B, T, F, 2], F: freq_bins\n",
    "    # mask (real): [B, T, Fe], Fe: erb_bins\n",
    "    p = model_params('config.ini')\n",
    "    ERBB = ERBBand(N=p.nb_erb, high_lim=p.sr//2, NFFT=p.fft_size)\n",
    "    iERB_Matrix = tf.convert_to_tensor(ERB_pro_matrix(ERBB, NFFT=p.fft_size, mode=1).T, dtype=tf.float32) # inverse ERB convert matrix\n",
    "    \n",
    "\n",
    "    if not training:\n",
    "        mask_sin = mask * tf.math.sin(math.pi * mask / 2)\n",
    "        mask_pf = (1 + beta) * mask / (1 + beta * (mask/(tf.where(mask_sin<1e-12,1e-12,mask_sin)))**2)\n",
    "    else:\n",
    "        mask_pf = mask\n",
    "    freq_bins_masks = mask_pf @ iERB_Matrix\n",
    "\n",
    "    freq_bins_masks = tf.expand_dims(freq_bins_masks,axis=-1)\n",
    "    spec = tf.multiply(spec_inputs, freq_bins_masks) # mask gain\n",
    "\n",
    "    if return_mask:\n",
    "        return spec, freq_bins_masks\n",
    "    else:\n",
    "        return spec"
   ]
  },
  {
   "cell_type": "code",
   "execution_count": 5,
   "id": "c6bf6d76",
   "metadata": {},
   "outputs": [],
   "source": [
    "def df_operations(spec, coefs, alpha):\n",
    "    # spec (real) [B, T, F, 2], O: df_order\n",
    "    # coefs (real) [B, T, O, F, 2]\n",
    "    # alpha (real) [B, T, 1]\n",
    "    \n",
    "    b, _, _, _ = spec.get_shape()\n",
    "    padded = spec[:,:,:p.nb_df,:]\n",
    "    padded = spec_pad(padded, p.df_order, p.df_lookahead, dim=-3)\n",
    "    padded = tf.split(padded, [1, 1], axis=-1)\n",
    "\n",
    "    padded_real = tf.image.extract_patches(images=padded[0], sizes=[1,p.df_order,1,1], \n",
    "                                           strides=[1,1,1,1], rates=[1,1,1,1], padding='VALID')\n",
    "    padded_imag = tf.image.extract_patches(images=padded[1], sizes=[1,p.df_order,1,1], \n",
    "                                           strides=[1,1,1,1], rates=[1,1,1,1], padding='VALID')\n",
    "    padded_real = tf.expand_dims(padded_real, axis=-1)\n",
    "    padded_imag = tf.expand_dims(padded_imag, axis=-1)\n",
    "    \n",
    "    padded = tf.concat([padded_real,padded_imag],axis=-1)\n",
    "    \n",
    "    padded = tf.transpose(padded, perm=[0, 1, 3, 2, 4])\n",
    "\n",
    "    # Real part\n",
    "    spec_real = padded[..., 0] * coefs[..., 0] - padded[..., 1] * coefs[..., 1]\n",
    "    \n",
    "    # Image part\n",
    "    spec_image = padded[..., 1] * coefs[..., 0] + padded[..., 0] * coefs[..., 1]\n",
    "    \n",
    "    spec_real = tf.expand_dims(spec_real, axis=-1)\n",
    "    spec_image = tf.expand_dims(spec_image, axis=-1)\n",
    "    spec_f = tf.concat([spec_real,spec_image],axis=-1)\n",
    "    \n",
    "    spec_f = tf.reduce_sum(spec_f, axis=2)\n",
    "    \n",
    "    alpha = tf.expand_dims(alpha, axis=-1)\n",
    "\n",
    "    spec_out = tf.multiply(spec_f, alpha) + tf.multiply(spec[..., :p.nb_df, :], (1-alpha))\n",
    "    spec_out = tf.concat((spec_out,spec[..., p.nb_df:, :]),axis=-2)\n",
    "\n",
    "    return spec_out"
   ]
  },
  {
   "cell_type": "code",
   "execution_count": null,
   "id": "d638b221",
   "metadata": {},
   "outputs": [],
   "source": [
    "def df_operations_wo_alpha(spec, coefs):\n",
    "    # spec (real) [B, T, F, 2], O: df_order\n",
    "    # coefs (real) [B, T, O, F, 2]\n",
    "    # alpha (real) [B, T, 1]\n",
    "    p = model_params('config.ini')\n",
    "    \n",
    "    b, _, _, _ = spec.get_shape()\n",
    "    padded = spec[:,:,:p.nb_df,:]\n",
    "    padded = spec_pad(padded, p.df_order, p.df_lookahead, dim=-3)\n",
    "    padded = tf.split(padded, [1, 1], axis=-1)\n",
    "\n",
    "    padded_real = tf.image.extract_patches(images=padded[0], sizes=[1,p.df_order,1,1], \n",
    "                                           strides=[1,1,1,1], rates=[1,1,1,1], padding='VALID')\n",
    "    padded_imag = tf.image.extract_patches(images=padded[1], sizes=[1,p.df_order,1,1], \n",
    "                                           strides=[1,1,1,1], rates=[1,1,1,1], padding='VALID')\n",
    "    padded_real = tf.expand_dims(padded_real, axis=-1)\n",
    "    padded_imag = tf.expand_dims(padded_imag, axis=-1)\n",
    "    \n",
    "    padded = tf.concat([padded_real,padded_imag],axis=-1)\n",
    "    \n",
    "    padded = tf.transpose(padded, perm=[0, 1, 3, 2, 4])\n",
    "    \n",
    "    # Real part\n",
    "    spec_real = padded[..., 0] * coefs[..., 0] - padded[..., 1] * coefs[..., 1]\n",
    "    # Image part\n",
    "    spec_image = padded[..., 1] * coefs[..., 0] + padded[..., 0] * coefs[..., 1]\n",
    "    \n",
    "    spec_real = tf.expand_dims(spec_real, axis=-1)\n",
    "    spec_image = tf.expand_dims(spec_image, axis=-1)\n",
    "    spec_f = tf.concat([spec_real,spec_image],axis=-1)\n",
    "    \n",
    "    spec_f = tf.reduce_sum(spec_f, axis=2)\n",
    "    \n",
    "#     alpha = tf.expand_dims(alpha, axis=-1)\n",
    "\n",
    "#     spec_out = tf.multiply(spec_f, alpha) + tf.multiply(spec[..., :p.nb_df, :], (1-alpha))\n",
    "    spec_out = spec_f\n",
    "    spec_out = tf.concat((spec_out,spec[..., p.nb_df:, :]),axis=-2)\n",
    "\n",
    "    return spec_out"
   ]
  },
  {
   "cell_type": "code",
   "execution_count": 6,
   "id": "d4961fe6",
   "metadata": {},
   "outputs": [
    {
     "name": "stdout",
     "output_type": "stream",
     "text": [
      "(1, 5, 96, 1)\n",
      "(1, 1, 96, 5)\n"
     ]
    }
   ],
   "source": [
    "# import os\n",
    "# os.environ[\"CUDA_DEVICE_ORDER\"] = \"PCI_BUS_ID\"   # see issue #152\n",
    "# os.environ[\"CUDA_VISIBLE_DEVICES\"] = \"\"\n",
    "\n",
    "# import tensorflow as tf\n",
    "# a = tf.ones((1,1,96,1))\n",
    "# b = spec_pad(a, 5, 1, dim=-3)\n",
    "# print(b.shape)\n",
    "# c = tf.image.extract_patches(images=b, sizes=[1,5,1,1], strides=[1,1,1,1], rates=[1,1,1,1], padding='VALID')\n",
    "# print(c.shape)"
   ]
  },
  {
   "cell_type": "code",
   "execution_count": 4,
   "id": "3c495ba8",
   "metadata": {},
   "outputs": [],
   "source": [
    "def spec_pad(x, window_size: int, lookahead: int, dim: int = 0):\n",
    "    pad = [0] * len(x.get_shape()) * 2\n",
    "    if dim >= 0:\n",
    "        pad[(tf.rank(x) - dim - 1) * 2] = window_size - lookahead - 1\n",
    "        pad[(tf.rank(x) - dim - 1) * 2 + 1] = lookahead\n",
    "    else:\n",
    "        pad[(-dim - 1) * 2] = window_size - lookahead - 1\n",
    "        pad[(-dim - 1) * 2 + 1] = lookahead\n",
    "        \n",
    "    if len(pad)==2:\n",
    "        padding = ((0, 0), (0, 0), (0, 0),(pad[-2], pad[-1]))\n",
    "    elif len(pad)==4:\n",
    "        padding = ((0, 0), (0, 0), (pad[-2], pad[-1]), (pad[-4],pad[-3]))\n",
    "    elif len(pad)==6:\n",
    "        padding = ((0, 0), (pad[-2], pad[-1]), (pad[-4],pad[-3]), (pad[-6],pad[-5]))\n",
    "    else:\n",
    "        padding = ((pad[-2], pad[-1]), (pad[-4],pad[-3]), (pad[-6],pad[-5]), (pad[-8],pad[-7]))\n",
    "    return tf.pad(x, padding)"
   ]
  },
  {
   "cell_type": "code",
   "execution_count": 7,
   "id": "25e76e1b",
   "metadata": {},
   "outputs": [],
   "source": [
    "from tensorflow.keras.layers import Lambda, Flatten"
   ]
  },
  {
   "cell_type": "code",
   "execution_count": 8,
   "id": "3995e89d",
   "metadata": {},
   "outputs": [],
   "source": [
    "def synthesis_frame(x):\n",
    "    n_frames = p.length_sec*p.sr//p.hop_size\n",
    "    length = (n_frames+1)*p.hop_size\n",
    "    \n",
    "    win = tf.signal.vorbis_window(window_length = p.fft_size)\n",
    "    win = tf.reshape(win,(1,p.fft_size))\n",
    "    \n",
    "    x_complex = as_complex(x) / (p.fft_size ** -0.5)\n",
    "\n",
    "    X_ifft = Lambda(lambda v: tf.signal.irfft(tf.cast(v, dtype=tf.complex64),\n",
    "                                                         fft_length = tf.constant([p.fft_size], dtype=tf.int32)))(x_complex)\n",
    "    win = tf.tile(tf.expand_dims(win,1), [1, n_frames, 1])\n",
    "    \n",
    "    x_win = tf.multiply(X_ifft,win)\n",
    "    \n",
    "    out = tf.signal.overlap_and_add(x_win, frame_step = p.hop_size)\n",
    "\n",
    "#     x_win_split = tf.split(x_win, num_or_size_splits=n_frames, axis=1)\n",
    "    \n",
    "#     x_win_frame = x_win_split[0]\n",
    "#     x_win_frame = tf.reshape(x_win_frame, [-1, p.fft_size])\n",
    "#     out = x_win_frame\n",
    "        \n",
    "#     for i in range(1, n_frames):\n",
    "#         x_win_frame = x_win_split[i]\n",
    "#         x_win_frame = tf.reshape(x_win_frame, [-1, p.fft_size])\n",
    "#         out = tf.pad(out, ((0,0),(0,p.hop_size)))\n",
    "#         x_win_frame_pad = tf.pad(x_win_frame, ((0,0),(i*p.hop_size, 0)))\n",
    "#         out = out + x_win_frame_pad\n",
    "    \n",
    "    return out"
   ]
  },
  {
   "cell_type": "code",
   "execution_count": null,
   "id": "34e322aa",
   "metadata": {},
   "outputs": [],
   "source": []
  },
  {
   "cell_type": "code",
   "execution_count": null,
   "id": "6872bc83",
   "metadata": {},
   "outputs": [],
   "source": []
  }
 ],
 "metadata": {
  "kernelspec": {
   "display_name": "Python 3",
   "language": "python",
   "name": "python3"
  },
  "language_info": {
   "codemirror_mode": {
    "name": "ipython",
    "version": 3
   },
   "file_extension": ".py",
   "mimetype": "text/x-python",
   "name": "python",
   "nbconvert_exporter": "python",
   "pygments_lexer": "ipython3",
   "version": "3.8.8"
  }
 },
 "nbformat": 4,
 "nbformat_minor": 5
}
